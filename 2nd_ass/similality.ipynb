{
 "cells": [
  {
   "cell_type": "code",
   "execution_count": 6,
   "id": "adf49e78-3e73-4e21-ae7d-b46b7792c849",
   "metadata": {},
   "outputs": [
    {
     "name": "stdout",
     "output_type": "stream",
     "text": [
      "dict_keys(['./data/', './data/bg_oost_060', './data/geolab', './data/hallq', './data/bklib', './data/hallm', './data/hallc', './data/halld', './data/hallp', './data/canteen', './data/hallb', './data/hallk', './data/bg_oost_430', './data/vrlab', './data/cafe', './data/half-floor', './data/hallr', './data/hallu', './data/halla', './data/hallf', './data/hallh', './data/hallz', './data/entrance'])\n"
     ]
    }
   ],
   "source": [
    "from read_data import read_access_point\n",
    "\n",
    "data_dict = read_access_point(\"./data/\")\n",
    "print(data_dict.keys())\n"
   ]
  }
 ],
 "metadata": {
  "kernelspec": {
   "display_name": "Python 3 (ipykernel)",
   "language": "python",
   "name": "python3"
  },
  "language_info": {
   "codemirror_mode": {
    "name": "ipython",
    "version": 3
   },
   "file_extension": ".py",
   "mimetype": "text/x-python",
   "name": "python",
   "nbconvert_exporter": "python",
   "pygments_lexer": "ipython3",
   "version": "3.11.1"
  }
 },
 "nbformat": 4,
 "nbformat_minor": 5
}
